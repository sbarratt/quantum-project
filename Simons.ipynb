{
 "cells": [
  {
   "cell_type": "markdown",
   "metadata": {
    "deletable": true,
    "editable": true
   },
   "source": [
    "# Simon's Algorithm\n",
    "### Authors: Shane Barratt, Yash Shah, Julien Bloch"
   ]
  },
  {
   "cell_type": "markdown",
   "metadata": {
    "collapsed": true,
    "deletable": true,
    "editable": true
   },
   "source": [
    "## Introduction\n",
    "\n",
    "You've probably heard of Quantum Computing, either in the news or from your friends. But what's all the hype? Can a quantum computer really outperform a classical computer? Simon says it can.\n",
    "\n",
    "In computability theory, a Turing Machine, introduced by Alan Turing, is a theoretical machine used to examine the possibilities and limitations of computers. All modern silicon-based computers are \"Turing-complete\", in the sense that they can perform any computation that a Turing Machine can. The theory is further extended to something called a Probabilstic Turing Machine, a non-deterministic Turing Machine which chooses between state transitions based on a probability distribution.\n",
    "\n",
    "Simon, in his seminal 1994 paper \"On the Power of Quantum Computation, introduced a problem and quantum algorithm which provides compelling evidence for a computational advantage of the quantum model of computation over probabilistic Turing machines.\n",
    "\n",
    "This Jupyter Notebook seeks to provide a simulation of his algorithm, as well as interactive widgets and plots for you to test out different parameters."
   ]
  },
  {
   "cell_type": "code",
   "execution_count": 2,
   "metadata": {
    "collapsed": false,
    "deletable": true,
    "editable": true
   },
   "outputs": [
    {
     "name": "stderr",
     "output_type": "stream",
     "text": [
      "//anaconda/envs/tensorflow/lib/python3.5/site-packages/matplotlib/__init__.py:878: UserWarning: axes.color_cycle is deprecated and replaced with axes.prop_cycle; please use the latter.\n",
      "  warnings.warn(self.msg_depr % (key, alt_key))\n",
      "//anaconda/envs/tensorflow/lib/python3.5/site-packages/matplotlib/font_manager.py:273: UserWarning: Matplotlib is building the font cache using fc-list. This may take a moment.\n",
      "  warnings.warn('Matplotlib is building the font cache using fc-list. This may take a moment.')\n",
      "//anaconda/envs/tensorflow/lib/python3.5/site-packages/matplotlib/font_manager.py:273: UserWarning: Matplotlib is building the font cache using fc-list. This may take a moment.\n",
      "  warnings.warn('Matplotlib is building the font cache using fc-list. This may take a moment.')\n"
     ]
    }
   ],
   "source": [
    "import matplotlib.pyplot as plt\n",
    "import numpy as np\n",
    "import random\n",
    "%matplotlib inline"
   ]
  },
  {
   "cell_type": "markdown",
   "metadata": {
    "deletable": true,
    "editable": true
   },
   "source": [
    "The basic setup of Simon's algorithm is that you're given a function $f: \\{ 0,1 \\}^n \\to \\{ 0,1 \\}^m$, with $m \\geq n$ and either \n",
    "\n",
    "a) f is 1-to-1   \n",
    "or   \n",
    "b) there exists an $s$ such that $\\forall x \\neq x'$, $f(x) = f(x') \\iff x' = x \\oplus s$.\n",
    "\n",
    "\n",
    "\n",
    "\n",
    "We want to determine which of these holds for $f$ and find $s$ in the second case. This problem seems impossible from the classical point of view; it will require enumeration of all possible $s$'s which would take time exponential in $n$.\n",
    "\n",
    "We begin by defining multiple functions for use later."
   ]
  },
  {
   "cell_type": "code",
   "execution_count": 3,
   "metadata": {
    "collapsed": true,
    "deletable": true,
    "editable": true
   },
   "outputs": [],
   "source": [
    "def num_to_binary(x, n):\n",
    "    # Returns x in n-bit binary representation\n",
    "    st = (\"{0:0%db}\" % n).format(x)\n",
    "    return np.array([int(s) for s in st])\n",
    "\n",
    "def bitwise_dot_product(x, y, n):\n",
    "    # Returns x.y (mod 2), where x and y are both n bits\n",
    "    return np.sum(num_to_binary(np.bitwise_and(x, y), n)) % 2\n",
    "\n",
    "def random_one_to_one_function(n, m):\n",
    "    # Returns a random 1-1 f: {0,1}^n -> {0,1}^m\n",
    "    assert m >= n\n",
    "    xs = list(range(2**n))\n",
    "    ys = list(range(2**m))\n",
    "    random.shuffle(ys)\n",
    "        \n",
    "    def f(x):\n",
    "        return ys[x]\n",
    "    \n",
    "    return f\n",
    "\n",
    "def random_s_function(n, m, s):\n",
    "    # Returns a random f: {0,1}^n -> {0,1}^m s.t. \n",
    "    assert m >= n\n",
    "    assert s != 0\n",
    "    \n",
    "    xs = list(range(2**n))\n",
    "    ys = list(range(2**m))\n",
    "    random.shuffle(ys)\n",
    "    \n",
    "    for x in xs:\n",
    "        ys[np.bitwise_and(x, s)] = ys[x]\n",
    "    \n",
    "    def f(x):\n",
    "        return ys[x]\n",
    "    \n",
    "    return f"
   ]
  },
  {
   "cell_type": "markdown",
   "metadata": {
    "deletable": true,
    "editable": true
   },
   "source": [
    "Simon proposes an algorithm \"Fourier-Twice\" to solve this very problem. It is repeated here for your convenience:\n",
    "\n",
    "Routine **Fourier-twice**\n",
    "1. perform a Hadamard transformation on a string of $n$ zeros, producing $2^{-n/2}\\sum_x |x>$\n",
    "2. compute $f(x)$, concatenating the answer to $x$, thus producing $2^{-n/2} \\sum_x |(x, f(x))>$\n",
    "3. perform a Hadamard transformation on $x$, producing $2^{-n} \\sum_y \\sum_x (-1)^{x . y} |(y, f(x))>$\n",
    "\n",
    "End **Fourier-twice**\n",
    "\n",
    "The entire algorithm is to run **Fourier-twice** $n-1$ times, each time sampling the final superposition and noting the resulting $(y, f(x))$. Simon's algorithm is depicted pictorally below."
   ]
  },
  {
   "cell_type": "markdown",
   "metadata": {
    "deletable": true,
    "editable": true
   },
   "source": [
    "<img src=\"simons-diagram.png\" alt=\"Drawing\" style=\"width: 400px;\"/>"
   ]
  },
  {
   "cell_type": "markdown",
   "metadata": {},
   "source": [
    "In case a, where f is 1-1, the sum after step 3 of the algorithm will be a uniform superposition across all $(y, f(x))$ pairs. The algorithm will return $n-1$ i.i.d. $(y, f(x))$ pairs uniformly distributed amongst n-bit strings.\n",
    "\n",
    "In case b, where f follows the structure described above (there exists an $s$ such that $\\forall x \\neq x'$, $f(x) = f(x') \\iff x' = x \\oplus s$), the sum after step 3 of the algorithm will be a uniform superposition across all $(y, f(x))$ s.t. $y.s=0$ because all terms where $y.s=1$ cancel out."
   ]
  },
  {
   "cell_type": "code",
   "execution_count": 6,
   "metadata": {
    "collapsed": true,
    "deletable": true,
    "editable": true
   },
   "outputs": [],
   "source": [
    "def fourier_twice(f, n, s, onetoone=False):\n",
    "    x = random.randint(0, n-1)\n",
    "    y = random.randint(0, n-1)\n",
    "    if not onetoone:\n",
    "        possible_ys = []\n",
    "        for y in range(2**n):\n",
    "            if bitwise_dot_product(y, s, n) == 0:\n",
    "                possible_ys.append(y)\n",
    "        y = random.choice(possible_ys)\n",
    "    return y, f(x)"
   ]
  },
  {
   "cell_type": "code",
   "execution_count": 22,
   "metadata": {
    "collapsed": false,
    "deletable": true,
    "editable": true
   },
   "outputs": [
    {
     "name": "stdout",
     "output_type": "stream",
     "text": [
      "731\n"
     ]
    }
   ],
   "source": [
    "s = 0b1011011011\n",
    "n = 10\n",
    "m = 10\n",
    "\n",
    "f = random_s_function(n, m, s)\n",
    "\n",
    "outputs = [fourier_twice(f, n, s) for _ in range(n-1)]\n",
    "\n",
    "print (s)"
   ]
  },
  {
   "cell_type": "code",
   "execution_count": 23,
   "metadata": {
    "collapsed": false
   },
   "outputs": [
    {
     "name": "stdout",
     "output_type": "stream",
     "text": [
      "[(371, 146), (76, 86), (920, 901), (242, 487), (564, 901), (756, 146), (520, 791), (241, 86), (227, 487)]\n"
     ]
    }
   ],
   "source": [
    "print (outputs)"
   ]
  },
  {
   "cell_type": "code",
   "execution_count": 24,
   "metadata": {
    "collapsed": false,
    "deletable": true,
    "editable": true
   },
   "outputs": [
    {
     "name": "stdout",
     "output_type": "stream",
     "text": [
      "0\n",
      "215\n",
      "524\n",
      "731\n"
     ]
    }
   ],
   "source": [
    "# print solutions\n",
    "for possible_s in range(2**n):\n",
    "    good = True\n",
    "    for y, f_x in outputs:\n",
    "        good = good and (np.sum(num_to_binary(np.bitwise_and(y, possible_s), n)) % 2 == 0)\n",
    "    if good:\n",
    "        print (possible_s)"
   ]
  },
  {
   "cell_type": "code",
   "execution_count": 27,
   "metadata": {
    "collapsed": false,
    "deletable": true,
    "editable": true
   },
   "outputs": [],
   "source": [
    "s = 0b1011011011\n",
    "n = 10\n",
    "m = 10\n",
    "\n",
    "f = random_one_to_one_function(n, m)\n",
    "\n",
    "# how to collect n-1 independent\n",
    "outputs = [fourier_twice(f, n, s, True) for _ in range(n)]"
   ]
  },
  {
   "cell_type": "code",
   "execution_count": 28,
   "metadata": {
    "collapsed": false,
    "deletable": true,
    "editable": true
   },
   "outputs": [
    {
     "name": "stdout",
     "output_type": "stream",
     "text": [
      "0\n",
      "16\n",
      "32\n",
      "48\n",
      "64\n",
      "80\n",
      "96\n",
      "112\n",
      "128\n",
      "144\n",
      "160\n",
      "176\n",
      "192\n",
      "208\n",
      "224\n",
      "240\n",
      "256\n",
      "272\n",
      "288\n",
      "304\n",
      "320\n",
      "336\n",
      "352\n",
      "368\n",
      "384\n",
      "400\n",
      "416\n",
      "432\n",
      "448\n",
      "464\n",
      "480\n",
      "496\n",
      "512\n",
      "528\n",
      "544\n",
      "560\n",
      "576\n",
      "592\n",
      "608\n",
      "624\n",
      "640\n",
      "656\n",
      "672\n",
      "688\n",
      "704\n",
      "720\n",
      "736\n",
      "752\n",
      "768\n",
      "784\n",
      "800\n",
      "816\n",
      "832\n",
      "848\n",
      "864\n",
      "880\n",
      "896\n",
      "912\n",
      "928\n",
      "944\n",
      "960\n",
      "976\n",
      "992\n",
      "1008\n"
     ]
    }
   ],
   "source": [
    "# print solutions\n",
    "for possible_s in range(2**n):\n",
    "    good = True\n",
    "    for y, f_x in outputs:\n",
    "        good = good and (np.sum(num_to_binary(np.bitwise_and(y, possible_s), n)) % 2 == 0)\n",
    "    if good:\n",
    "        print (possible_s)"
   ]
  }
 ],
 "metadata": {
  "kernelspec": {
   "display_name": "Python 3",
   "language": "python",
   "name": "python3"
  },
  "language_info": {
   "codemirror_mode": {
    "name": "ipython",
    "version": 3
   },
   "file_extension": ".py",
   "mimetype": "text/x-python",
   "name": "python",
   "nbconvert_exporter": "python",
   "pygments_lexer": "ipython3",
   "version": "3.5.2"
  }
 },
 "nbformat": 4,
 "nbformat_minor": 2
}
