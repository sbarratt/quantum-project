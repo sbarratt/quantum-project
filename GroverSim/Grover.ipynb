{
 "cells": [
  {
   "cell_type": "markdown",
   "metadata": {},
   "source": [
    "Grover's algorithm is a quantum implementation of a needle-in-a-haystack search. It is realized by uniformly initializing a set of qubits, then conditionally inverting the marked qubit, then flipping all qubits about the mean. When this is repeated many times, the probability amplitude of the marked element becomes much higher.\n",
    "\n",
    "This Jupyter notebook explores how changing the parameters of Grover's search affects the evolution of the marked element's probability amplitude.\n",
    "\n",
    "Below is a plot showing the probability amplitude of the marked element as a function of iterations. This amplitude is shown in blue and is a periodic function. The orange line also on the chart shows the mean of all the elements at that current iteration of the algorithm. This is also periodic.\n",
    "\n",
    "The second plot is used to inspect the maximum values of the marked element. It plots only the values taken at the iterations yielding the peak probability amplitude for the marked element. This way the periodicity of the peaks can be visualized (especially with N set low and iteration set high).\n",
    "\n",
    "There are 3 interactive sliders which allows one to select: the number of elements, how random the initial superposition is, and the number of iterations."
   ]
  },
  {
   "cell_type": "code",
   "execution_count": 1,
   "metadata": {
    "collapsed": true
   },
   "outputs": [],
   "source": [
    "import matplotlib.pyplot as plt\n",
    "import numpy as np\n",
    "from ipywidgets import interactive"
   ]
  },
  {
   "cell_type": "code",
   "execution_count": 2,
   "metadata": {},
   "outputs": [
    {
     "data": {
      "application/vnd.jupyter.widget-view+json": {
       "model_id": "16243b98952e4b39b7d2e0202379f1dc"
      }
     },
     "metadata": {},
     "output_type": "display_data"
    }
   ],
   "source": [
    "# run a demonstration of Grover's algorithm and plot the results\n",
    "def grover_demo (N = 100, randomness = 0.0, iterations = 250):\n",
    "    \n",
    "    # make weighted probability amplitudes\n",
    "    unif_vals = np.repeat(1/np.sqrt(N), N)\n",
    "    rand_vals = np.random.rand(N)\n",
    "    weighted_vals = unif_vals * (1 - randomness) + rand_vals * randomness\n",
    "\n",
    "    # normalize\n",
    "    totalProb = 0\n",
    "    for amp in weighted_vals:\n",
    "        totalProb += amp **2   \n",
    "    vals = weighted_vals / totalProb\n",
    "    \n",
    "    # initialize arrays\n",
    "    y_amp = np.zeros(iterations)\n",
    "    xs = np.arange(0, iterations)\n",
    "    means = np.zeros(iterations)\n",
    "    iters = []\n",
    "    maxs = []\n",
    "\n",
    "    # populate all arrays while running the algorithm\n",
    "    count = 0\n",
    "    i = 0\n",
    "    while (i < iterations):\n",
    "        vals[0] = -vals[0]\n",
    "        mean = np.mean(vals)\n",
    "        vals = mean * 2 - vals\n",
    "        y_amp[i] = vals[0]\n",
    "        means[i] = mean\n",
    "\n",
    "        # conditionally store peaks of marked probability amplitude\n",
    "        if (i > 3 and y_amp[i] < y_amp[i - 1] and y_amp[i - 1] > y_amp[i - 2]):\n",
    "            iters.append(count)\n",
    "            maxs.append(y_amp[i - 1])\n",
    "            count += 1\n",
    "\n",
    "        i += 1\n",
    "\n",
    "    # plot results\n",
    "    plt.plot(xs, y_amp)\n",
    "    plt.plot(xs, means)\n",
    "    plt.xlabel('Iteration #')\n",
    "    plt.ylabel('Probability Amplitude')\n",
    "    plt.legend([\"Marked\", \"Mean\"])\n",
    "\n",
    "\n",
    "    plt.show()\n",
    "    \n",
    "    plt.plot(iters, maxs)\n",
    "    plt.xlabel('Peak #')\n",
    "    plt.ylabel('Prob. Amp. of Marked Element')\n",
    "    plt.show()\n",
    "\n",
    "# interactivity\n",
    "interactive(grover_demo, N=(1, 1000), randomness=(0.0, 1.0), iterations=(1, 10000))"
   ]
  },
  {
   "cell_type": "code",
   "execution_count": null,
   "metadata": {
    "collapsed": true
   },
   "outputs": [],
   "source": []
  }
 ],
 "metadata": {
  "kernelspec": {
   "display_name": "Python [default]",
   "language": "python",
   "name": "python3"
  },
  "language_info": {
   "codemirror_mode": {
    "name": "ipython",
    "version": 3
   },
   "file_extension": ".py",
   "mimetype": "text/x-python",
   "name": "python",
   "nbconvert_exporter": "python",
   "pygments_lexer": "ipython3",
   "version": "3.5.3"
  }
 },
 "nbformat": 4,
 "nbformat_minor": 2
}
