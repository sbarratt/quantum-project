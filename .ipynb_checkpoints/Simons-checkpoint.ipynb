{
 "cells": [
  {
   "cell_type": "code",
   "execution_count": 3,
   "metadata": {
    "collapsed": false
   },
   "outputs": [],
   "source": [
    "import matplotlib.pyplot as plt\n",
    "import numpy as np\n",
    "import random\n",
    "%matplotlib inline"
   ]
  },
  {
   "cell_type": "code",
   "execution_count": 20,
   "metadata": {
    "collapsed": true
   },
   "outputs": [],
   "source": [
    "# f: {0,1}^n -> {0,1}^m, m >= n\n",
    "# either:\n",
    "# f is 1-1\n",
    "# f(x) = f(x') <==> x' = x XOR s\n",
    "\n",
    "def random_one_to_one_function(n, m):\n",
    "    assert m >= n\n",
    "    xs = list(range(2**n))\n",
    "    ys = list(range(2**m))\n",
    "    random.shuffle(ys)\n",
    "    \n",
    "    print (xs, ys)\n",
    "    \n",
    "    def f(x):\n",
    "        return ys[x]\n",
    "    \n",
    "    return f"
   ]
  },
  {
   "cell_type": "code",
   "execution_count": 28,
   "metadata": {
    "collapsed": true
   },
   "outputs": [],
   "source": [
    "def random_s_function(n, m, s):\n",
    "    assert m >= n\n",
    "    assert s != 0\n",
    "    \n",
    "    xs = list(range(2**n))\n",
    "    ys = list(range(2**m))\n",
    "    random.shuffle(ys)\n",
    "    \n",
    "    for x in xs:\n",
    "        ys[x ^ s] = ys[x]\n",
    "    \n",
    "    def f(x):\n",
    "        return ys[x]\n",
    "    \n",
    "    return f"
   ]
  },
  {
   "cell_type": "code",
   "execution_count": 31,
   "metadata": {
    "collapsed": false
   },
   "outputs": [
    {
     "name": "stdout",
     "output_type": "stream",
     "text": [
      "[0, 1, 2, 3] [2, 1, 3, 0]\n",
      "10\n",
      "1\n",
      "11\n",
      "0\n"
     ]
    }
   ],
   "source": [
    "f = random_one_to_one_function(2, 2)\n",
    "\n",
    "print (\"{0:b}\".format(f(0b00)))\n",
    "print (\"{0:b}\".format(f(0b01)))\n",
    "print (\"{0:b}\".format(f(0b10)))\n",
    "print (\"{0:b}\".format(f(0b11)))"
   ]
  },
  {
   "cell_type": "code",
   "execution_count": 32,
   "metadata": {
    "collapsed": false
   },
   "outputs": [
    {
     "name": "stdout",
     "output_type": "stream",
     "text": [
      "11\n",
      "11\n",
      "1\n",
      "1\n"
     ]
    }
   ],
   "source": [
    "f = random_s_function(2, 2, 0b01)\n",
    "\n",
    "print (\"{0:b}\".format(f(0b00)))\n",
    "print (\"{0:b}\".format(f(0b01)))\n",
    "print (\"{0:b}\".format(f(0b10)))\n",
    "print (\"{0:b}\".format(f(0b11)))"
   ]
  },
  {
   "cell_type": "code",
   "execution_count": 45,
   "metadata": {
    "collapsed": true
   },
   "outputs": [],
   "source": [
    "def fourier_twice(f, n, s, onetoone=False):\n",
    "    x = random.randint(0, 2**n-1)\n",
    "    if onetoone:\n",
    "        y = random.randint(0, 2**n-1)\n",
    "        return y, f(x)\n",
    "    else:\n",
    "        while 1:\n",
    "            y = random.randint(0, 2**n-1)\n",
    "            if y ^ s == 0:\n",
    "                break\n",
    "    return y, f(x)"
   ]
  },
  {
   "cell_type": "code",
   "execution_count": 46,
   "metadata": {
    "collapsed": false
   },
   "outputs": [
    {
     "data": {
      "text/plain": [
       "(373, 620)"
      ]
     },
     "execution_count": 46,
     "metadata": {},
     "output_type": "execute_result"
    }
   ],
   "source": [
    "s = 0b0101110101\n",
    "n = 10\n",
    "\n",
    "f = random_s_function(n, n, s)\n",
    "fourier_twice(f, n, s, False)"
   ]
  },
  {
   "cell_type": "code",
   "execution_count": 40,
   "metadata": {
    "collapsed": false
   },
   "outputs": [
    {
     "data": {
      "text/plain": [
       "1"
      ]
     },
     "execution_count": 40,
     "metadata": {},
     "output_type": "execute_result"
    }
   ],
   "source": [
    "random.randint(0, 1)"
   ]
  },
  {
   "cell_type": "code",
   "execution_count": null,
   "metadata": {
    "collapsed": true
   },
   "outputs": [],
   "source": []
  }
 ],
 "metadata": {
  "kernelspec": {
   "display_name": "Python 3",
   "language": "python",
   "name": "python3"
  },
  "language_info": {
   "codemirror_mode": {
    "name": "ipython",
    "version": 3
   },
   "file_extension": ".py",
   "mimetype": "text/x-python",
   "name": "python",
   "nbconvert_exporter": "python",
   "pygments_lexer": "ipython3",
   "version": "3.5.2"
  }
 },
 "nbformat": 4,
 "nbformat_minor": 2
}
