{
 "cells": [
  {
   "cell_type": "code",
   "execution_count": 4,
   "metadata": {
    "collapsed": false,
    "deletable": true,
    "editable": true
   },
   "outputs": [],
   "source": [
    "import matplotlib.pyplot as plt\n",
    "import numpy as np\n",
    "import random\n",
    "%matplotlib inline"
   ]
  },
  {
   "cell_type": "code",
   "execution_count": 2,
   "metadata": {
    "collapsed": true,
    "deletable": true,
    "editable": true
   },
   "outputs": [],
   "source": [
    "# f: {0,1}^n -> {0,1}^m, m >= n\n",
    "# either:\n",
    "# f is 1-1\n",
    "# f(x) = f(x') <==> x' = x XOR s"
   ]
  },
  {
   "cell_type": "code",
   "execution_count": 9,
   "metadata": {
    "collapsed": true
   },
   "outputs": [],
   "source": [
    "def num_to_binary(x, n):\n",
    "    st = (\"{0:0%db}\" % n).format(x)\n",
    "    return np.array([int(s) for s in st])"
   ]
  },
  {
   "cell_type": "code",
   "execution_count": 53,
   "metadata": {
    "collapsed": false,
    "deletable": true,
    "editable": true
   },
   "outputs": [],
   "source": [
    "def random_one_to_one_function(n, m):\n",
    "    assert m >= n\n",
    "    xs = list(range(2**n))\n",
    "    ys = list(range(2**m))\n",
    "    random.shuffle(ys)\n",
    "        \n",
    "    def f(x):\n",
    "        return ys[x]\n",
    "    \n",
    "    return f"
   ]
  },
  {
   "cell_type": "code",
   "execution_count": 54,
   "metadata": {
    "collapsed": true,
    "deletable": true,
    "editable": true
   },
   "outputs": [],
   "source": [
    "def random_s_function(n, m, s):\n",
    "    assert m >= n\n",
    "    assert s != 0\n",
    "    \n",
    "    xs = list(range(2**n))\n",
    "    ys = list(range(2**m))\n",
    "    random.shuffle(ys)\n",
    "    \n",
    "    for x in xs:\n",
    "        ys[np.bitwise_and(x, s)] = ys[x]\n",
    "    \n",
    "    def f(x):\n",
    "        return ys[x]\n",
    "    \n",
    "    return f"
   ]
  },
  {
   "cell_type": "code",
   "execution_count": 55,
   "metadata": {
    "collapsed": true,
    "deletable": true,
    "editable": true
   },
   "outputs": [],
   "source": [
    "def fourier_twice(f, n, s, onetoone=False):\n",
    "    x = random.randint(0, n-1)\n",
    "    y = random.randint(0, n-1)\n",
    "    if not onetoone:\n",
    "        possible_ys = []\n",
    "        for y in range(2**n):\n",
    "            if np.sum(num_to_binary(np.bitwise_and(y, s), n)) % 2 == 0:\n",
    "                possible_ys.append(y)\n",
    "        y = random.choice(possible_ys)\n",
    "    return y"
   ]
  },
  {
   "cell_type": "code",
   "execution_count": 56,
   "metadata": {
    "collapsed": false,
    "deletable": true,
    "editable": true
   },
   "outputs": [],
   "source": [
    "s = 0b1111100001\n",
    "n = 10\n",
    "m = 10\n",
    "\n",
    "f = random_s_function(n, m, s)\n",
    "\n",
    "# how to collect n-1 independent\n",
    "xs = [fourier_twice(f, n, s) for _ in range(n)]"
   ]
  },
  {
   "cell_type": "code",
   "execution_count": 57,
   "metadata": {
    "collapsed": false
   },
   "outputs": [
    {
     "name": "stdout",
     "output_type": "stream",
     "text": [
      "0\n",
      "53\n",
      "980\n",
      "993\n"
     ]
    }
   ],
   "source": [
    "# print solutions\n",
    "for possible_s in range(2**n):\n",
    "    good = True\n",
    "    for x in xs:\n",
    "        good = good and (np.sum(num_to_binary(np.bitwise_and(x, possible_s), n)) % 2 == 0)\n",
    "    if good:\n",
    "        print (possible_s)"
   ]
  },
  {
   "cell_type": "code",
   "execution_count": 63,
   "metadata": {
    "collapsed": false
   },
   "outputs": [],
   "source": [
    "s = 0b1111100001\n",
    "n = 10\n",
    "m = 10\n",
    "\n",
    "f = random_one_to_one_function(n, m)\n",
    "\n",
    "# how to collect n-1 independent\n",
    "xs = [fourier_twice(f, n, s, True) for _ in range(n)]"
   ]
  },
  {
   "cell_type": "code",
   "execution_count": 64,
   "metadata": {
    "collapsed": false
   },
   "outputs": [
    {
     "name": "stdout",
     "output_type": "stream",
     "text": [
      "0\n",
      "16\n",
      "32\n",
      "48\n",
      "64\n",
      "80\n",
      "96\n",
      "112\n",
      "128\n",
      "144\n",
      "160\n",
      "176\n",
      "192\n",
      "208\n",
      "224\n",
      "240\n",
      "256\n",
      "272\n",
      "288\n",
      "304\n",
      "320\n",
      "336\n",
      "352\n",
      "368\n",
      "384\n",
      "400\n",
      "416\n",
      "432\n",
      "448\n",
      "464\n",
      "480\n",
      "496\n",
      "512\n",
      "528\n",
      "544\n",
      "560\n",
      "576\n",
      "592\n",
      "608\n",
      "624\n",
      "640\n",
      "656\n",
      "672\n",
      "688\n",
      "704\n",
      "720\n",
      "736\n",
      "752\n",
      "768\n",
      "784\n",
      "800\n",
      "816\n",
      "832\n",
      "848\n",
      "864\n",
      "880\n",
      "896\n",
      "912\n",
      "928\n",
      "944\n",
      "960\n",
      "976\n",
      "992\n",
      "1008\n"
     ]
    }
   ],
   "source": [
    "# print solutions, check f(0^n) and f(s*)\n",
    "for possible_s in range(2**n):\n",
    "    good = True\n",
    "    for x in xs:\n",
    "        good = good and (np.sum(num_to_binary(np.bitwise_and(x, possible_s), n)) % 2 == 0)\n",
    "    if good:\n",
    "        print (possible_s)"
   ]
  },
  {
   "cell_type": "code",
   "execution_count": null,
   "metadata": {
    "collapsed": true
   },
   "outputs": [],
   "source": []
  }
 ],
 "metadata": {
  "kernelspec": {
   "display_name": "Python 3",
   "language": "python",
   "name": "python3"
  },
  "language_info": {
   "codemirror_mode": {
    "name": "ipython",
    "version": 3
   },
   "file_extension": ".py",
   "mimetype": "text/x-python",
   "name": "python",
   "nbconvert_exporter": "python",
   "pygments_lexer": "ipython3",
   "version": "3.5.2"
  }
 },
 "nbformat": 4,
 "nbformat_minor": 2
}
