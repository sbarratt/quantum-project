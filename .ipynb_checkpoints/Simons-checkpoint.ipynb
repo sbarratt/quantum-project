{
 "cells": [
  {
   "cell_type": "markdown",
   "metadata": {
    "deletable": true,
    "editable": true
   },
   "source": [
    "# Simon's Algorithm\n",
    "### Authors: Shane Barratt, Yash Shah, Julien Bloch"
   ]
  },
  {
   "cell_type": "markdown",
   "metadata": {
    "collapsed": true,
    "deletable": true,
    "editable": true
   },
   "source": [
    "## Introduction\n",
    "\n",
    "You've probably heard of Quantum Computing, either in the news or from your friends. But what's all the hype? Can a quantum computer really outperform a classical computer? Simon says it can.\n",
    "\n",
    "In computability theory, a Turing Machine, introduced by Alan Turing, is a theoretical machine used to examine the possibilities and limitations of computers. All modern silicon-based computers are \"Turing-complete\", in the sense that they can perform any computation that a Turing Machine can. The theory is further extended to something called a Probabilstic Turing Machine, a non-deterministic Turing Machine which chooses between state transitions based on a probability distribution.\n",
    "\n",
    "Simon, in his seminal 1994 paper \"On the Power of Quantum Computation, introduced a problem and quantum algorithm which provides compelling evidence for a computational advantage of the quantum model of computation over probabilistic Turing machines.\n",
    "\n",
    "This Jupyter Notebook seeks to provide a simulation of his algorithm, as well as interactive widgets and plots for you to test out different parameters."
   ]
  },
  {
   "cell_type": "code",
   "execution_count": 1,
   "metadata": {
    "collapsed": false,
    "deletable": true,
    "editable": true
   },
   "outputs": [
    {
     "name": "stderr",
     "output_type": "stream",
     "text": [
      "//anaconda/envs/tensorflow/lib/python3.5/site-packages/matplotlib/__init__.py:878: UserWarning: axes.color_cycle is deprecated and replaced with axes.prop_cycle; please use the latter.\n",
      "  warnings.warn(self.msg_depr % (key, alt_key))\n"
     ]
    }
   ],
   "source": [
    "import matplotlib.pyplot as plt\n",
    "import numpy as np\n",
    "import random\n",
    "from functools import reduce\n",
    "%matplotlib inline"
   ]
  },
  {
   "cell_type": "markdown",
   "metadata": {
    "deletable": true,
    "editable": true
   },
   "source": [
    "The basic setup of Simon's algorithm is that you're given a function $f: \\{ 0,1 \\}^n \\to \\{ 0,1 \\}^m$, with $m \\geq n$ and either \n",
    "\n",
    "a) f is 1-to-1   \n",
    "or   \n",
    "b) there exists an $s$ such that $\\forall x \\neq x'$, $f(x) = f(x') \\iff x' = x \\oplus s$.\n",
    "\n",
    "\n",
    "\n",
    "\n",
    "We want to determine which of these holds for $f$ and find $s$ in the second case. This problem seems impossible from the classical point of view; it will require enumeration of all possible $s$'s which would take time exponential in $n$.\n",
    "\n",
    "We begin by defining multiple functions for use later."
   ]
  },
  {
   "cell_type": "code",
   "execution_count": 85,
   "metadata": {
    "collapsed": true,
    "deletable": true,
    "editable": true
   },
   "outputs": [],
   "source": [
    "def num_to_binary(x, n):\n",
    "    # Returns x in n-bit binary representation\n",
    "    st = (\"{0:0%db}\" % n).format(x)\n",
    "    return np.array([int(s) for s in st])\n",
    "\n",
    "def bitwise_dot_product(x, y, n):\n",
    "    # Returns x.y (mod 2), where x and y are both n bits\n",
    "    return np.sum(num_to_binary(np.bitwise_and(x, y), n)) % 2\n",
    "\n",
    "def random_one_to_one_function(n, m):\n",
    "    # Returns a random 1-1 f: {0,1}^n -> {0,1}^m\n",
    "    assert m >= n\n",
    "    xs = list(range(2**n))\n",
    "    ys = list(range(2**m))\n",
    "    random.shuffle(ys)\n",
    "        \n",
    "    def f(x):\n",
    "        return ys[x]\n",
    "    \n",
    "    return f\n",
    "\n",
    "def random_s_function(n, m, s):\n",
    "    # Returns a random f: {0,1}^n -> {0,1}^m s.t. \n",
    "    assert m >= n\n",
    "    assert s != 0\n",
    "    \n",
    "    xs = list(range(2**n))\n",
    "    ys = list(range(2**m))\n",
    "    random.shuffle(ys)\n",
    "    \n",
    "    for x in xs:\n",
    "        ys[np.bitwise_xor(x, s)] = ys[x]\n",
    "    \n",
    "    def f(x):\n",
    "        return ys[x]\n",
    "    \n",
    "    return f"
   ]
  },
  {
   "cell_type": "markdown",
   "metadata": {
    "deletable": true,
    "editable": true
   },
   "source": [
    "Simon proposes an algorithm \"Fourier-Twice\" to solve this very problem. It is repeated here for your convenience:\n",
    "\n",
    "Routine **Fourier-twice**\n",
    "1. perform a Hadamard transformation on a string of $n$ zeros, producing $2^{-n/2}\\sum_x |x>$\n",
    "2. compute $f(x)$, concatenating the answer to $x$, thus producing $2^{-n/2} \\sum_x |(x, f(x))>$\n",
    "3. perform a Hadamard transformation on $x$, producing $2^{-n} \\sum_y \\sum_x (-1)^{x . y} |(y, f(x))>$\n",
    "\n",
    "End **Fourier-twice**\n",
    "\n",
    "The entire algorithm is to run **Fourier-twice** $n-1$ times, each time sampling the final superposition and noting the resulting $(y, f(x))$. Simon's algorithm is depicted pictorally below."
   ]
  },
  {
   "cell_type": "markdown",
   "metadata": {
    "deletable": true,
    "editable": true
   },
   "source": [
    "<img src=\"simons-diagram.png\" alt=\"Drawing\" style=\"width: 400px;\"/>"
   ]
  },
  {
   "cell_type": "markdown",
   "metadata": {
    "deletable": true,
    "editable": true
   },
   "source": [
    "In case a, where f is 1-1, the sum after step 3 of the algorithm will be a uniform superposition across all $(y, f(x))$ pairs. The algorithm will return $n-1$ i.i.d. $(y, f(x))$ pairs uniformly distributed amongst n-bit strings.\n",
    "\n",
    "In case b, where f follows the structure described above (there exists an $s$ such that $\\forall x \\neq x'$, $f(x) = f(x') \\iff x' = x \\oplus s$), the sum after step 3 of the algorithm will be a uniform superposition across all $(y, f(x))$ s.t. $y.s=0$ because all terms where $y.s=1$ cancel out. We need $n-1$ independent equations and then we can solve for $s$ using Gaussian elimination.\n",
    "\n",
    "This quantum algorithm requires $O(N)$ queries to the black box whereas a classical algorithm would require $O(2^{\\frac{n}{2}})$ queries. Thus, Simon's conclusion is that quantum computing is inherently more powerful.\n",
    "\n",
    "Since we are simulating quantum computation and at the same time arguing that it is inherently more powerful, we will keep $n=10$ so that the computations are feasible."
   ]
  },
  {
   "cell_type": "code",
   "execution_count": 47,
   "metadata": {
    "collapsed": false,
    "deletable": true,
    "editable": true
   },
   "outputs": [],
   "source": [
    "n = 10\n",
    "m = n"
   ]
  },
  {
   "cell_type": "code",
   "execution_count": 48,
   "metadata": {
    "collapsed": false,
    "deletable": true,
    "editable": true
   },
   "outputs": [],
   "source": [
    "possible_ys = []\n",
    "for y in range(2**n):\n",
    "    if bitwise_dot_product(y, s, n) == 0:\n",
    "        possible_ys.append(y)\n",
    "\n",
    "def fourier_twice(f, n, s, onetoone=False):\n",
    "    x = random.randint(0, n-1)\n",
    "    y = random.randint(0, n-1)\n",
    "    if not onetoone:\n",
    "        y = random.choice(possible_ys)\n",
    "    return y, f(x)"
   ]
  },
  {
   "cell_type": "markdown",
   "metadata": {
    "deletable": true,
    "editable": true
   },
   "source": [
    "Successful operation of Simon's algorithm in the case where there is a $s$ for $f$ requires that the $n-1$ equations generated are linearly independent so that we can solve for $s$. We present here a simulation of this very condition."
   ]
  },
  {
   "cell_type": "code",
   "execution_count": 49,
   "metadata": {
    "collapsed": false,
    "deletable": true,
    "editable": true
   },
   "outputs": [],
   "source": [
    "import itertools\n",
    "masks = list(itertools.product([0,1], repeat=n-2)) # all n-2 bitstring masks (for linear independence calculation)"
   ]
  },
  {
   "cell_type": "code",
   "execution_count": 55,
   "metadata": {
    "collapsed": false,
    "deletable": true,
    "editable": true
   },
   "outputs": [],
   "source": [
    "def sim_lin_indep():\n",
    "    s = np.random.randint(1, 2**n)\n",
    "    f = random_s_function(n, m, s)\n",
    "    outputs = [fourier_twice(f, n, s) for _ in range(n-1)]\n",
    "    y_outputs = [o[0] for o in outputs]\n",
    "    for i in range(len(outputs)):\n",
    "        for mask in masks:\n",
    "            res = reduce(np.bitwise_xor, np.array(y_outputs[:i] + y_outputs[i+1:])*np.array(mask))\n",
    "            if res == y_outputs[i]:\n",
    "                return False\n",
    "    return True"
   ]
  },
  {
   "cell_type": "code",
   "execution_count": 56,
   "metadata": {
    "collapsed": false,
    "deletable": true,
    "editable": true
   },
   "outputs": [
    {
     "name": "stdout",
     "output_type": "stream",
     "text": [
      "100 loops, best of 3: 17.4 ms per loop\n"
     ]
    }
   ],
   "source": [
    "%timeit sim_lin_indep()"
   ]
  },
  {
   "cell_type": "code",
   "execution_count": 57,
   "metadata": {
    "collapsed": false,
    "deletable": true,
    "editable": true
   },
   "outputs": [],
   "source": [
    "lin_indep_count = 0.0\n",
    "for _ in range(1000):\n",
    "    lin_indep_count += 1 if sim_lin_indep() else 0"
   ]
  },
  {
   "cell_type": "code",
   "execution_count": 58,
   "metadata": {
    "collapsed": false,
    "deletable": true,
    "editable": true
   },
   "outputs": [
    {
     "name": "stdout",
     "output_type": "stream",
     "text": [
      "prob linear independent: 27.1 %\n"
     ]
    }
   ],
   "source": [
    "print (\"prob linear independent:\", 100*lin_indep_count/1000, \"%\")"
   ]
  },
  {
   "cell_type": "markdown",
   "metadata": {
    "deletable": true,
    "editable": true
   },
   "source": [
    "So it seems like the probability of getting $n-1$ linearly independent equations and to be able to solve the system of equations is about $\\frac{1}{4}$. We can treat every run of the algorithm as independent and thus the success of this algorithm becomes a realization of a [Bernoulli Process](wikipedia bernoulli process), which has an expected number of trials for interarrival times of $1/p=1/\\frac{1}{4}=4$ and variance = $\\frac{1-p}{p}=\\frac{.75}{.25}=3$. Since $n$ is small, we solve the system of equations by brute force."
   ]
  },
  {
   "cell_type": "code",
   "execution_count": 86,
   "metadata": {
    "collapsed": false,
    "deletable": true,
    "editable": true
   },
   "outputs": [
    {
     "name": "stdout",
     "output_type": "stream",
     "text": [
      "[0, 432, 693, 773]\n",
      "[0, 693]\n",
      "[0, 221, 305, 492, 616, 693, 857, 900]\n",
      "[0, 93, 693, 744]\n",
      "[0, 372, 693, 961]\n",
      "[0, 185, 524, 693]\n",
      "[0, 390, 693, 819]\n",
      "[0, 382, 693, 971]\n",
      "[0, 693]\n",
      "[0, 693]\n",
      "[0, 693]\n",
      "[0, 112, 437, 453, 693, 709, 768, 880]\n",
      "[0, 693]\n",
      "[0, 105, 693, 732]\n",
      "[0, 171, 309, 414, 542, 693, 811, 896]\n",
      "[0, 106, 693, 735]\n",
      "[0, 222, 619, 693]\n",
      "[0, 693]\n",
      "[0, 693]\n",
      "[0, 466, 693, 871]\n"
     ]
    }
   ],
   "source": [
    "for _ in range(20):# print solutions\n",
    "    s = np.random.randint(1, 2**n)\n",
    "    f = random_s_function(n, m, s)\n",
    "    outputs = [fourier_twice(f, n, s) for _ in range(n-1)]\n",
    "    final_s = []\n",
    "    for possible_s in range(2**n):\n",
    "        good = True\n",
    "        for y, f_x in outputs:\n",
    "            good = good and (np.sum(num_to_binary(np.bitwise_and(y, possible_s), n)) % 2 == 0)\n",
    "        if good:\n",
    "            final_s.append(possible_s)\n",
    "\n",
    "    print (final_s)"
   ]
  },
  {
   "cell_type": "code",
   "execution_count": 87,
   "metadata": {
    "collapsed": false,
    "deletable": true,
    "editable": true
   },
   "outputs": [
    {
     "data": {
      "text/plain": [
       "True"
      ]
     },
     "execution_count": 87,
     "metadata": {},
     "output_type": "execute_result"
    }
   ],
   "source": [
    "f(s) == f(0)"
   ]
  },
  {
   "cell_type": "markdown",
   "metadata": {
    "deletable": true,
    "editable": true
   },
   "source": [
    "As expected, $0$ is always a solution. Every time, $s$ is in the list of solutions but sometimes there are other possible solutions because the equations are dependent.\\\n",
    "\n",
    "Now we will examine the case where $f$ is a 1-1 function and see if our quantum algorithm can discriminate it."
   ]
  },
  {
   "cell_type": "code",
   "execution_count": 65,
   "metadata": {
    "collapsed": false,
    "deletable": true,
    "editable": true
   },
   "outputs": [],
   "source": [
    "n = 10\n",
    "m = n"
   ]
  },
  {
   "cell_type": "code",
   "execution_count": 69,
   "metadata": {
    "collapsed": false,
    "deletable": true,
    "editable": true
   },
   "outputs": [],
   "source": [
    "f = random_one_to_one_function(n, m)"
   ]
  },
  {
   "cell_type": "code",
   "execution_count": 72,
   "metadata": {
    "collapsed": false,
    "deletable": true,
    "editable": true
   },
   "outputs": [
    {
     "name": "stdout",
     "output_type": "stream",
     "text": [
      "[0, 16, 32, 48, 64, 80, 96, 112, 128, 144, 160, 176, 192, 208, 224, 240, 256, 272, 288, 304, 320, 336, 352, 368, 384, 400, 416, 432, 448, 464, 480, 496, 512, 528, 544, 560, 576, 592, 608, 624, 640, 656, 672, 688, 704, 720, 736, 752, 768, 784, 800, 816, 832, 848, 864, 880, 896, 912, 928, 944, 960, 976, 992, 1008]\n"
     ]
    }
   ],
   "source": [
    "for _ in range(1):# print solutions\n",
    "    outputs = [fourier_twice(f, n, s, onetoone=True) for _ in range(n-1)]\n",
    "    final_s = []\n",
    "    for possible_s in range(2**n):\n",
    "        good = True\n",
    "        for y, f_x in outputs:\n",
    "            good = good and (np.sum(num_to_binary(np.bitwise_and(y, possible_s), n)) % 2 == 0)\n",
    "        if good:\n",
    "            final_s.append(possible_s)\n",
    "\n",
    "    print (final_s)"
   ]
  },
  {
   "cell_type": "markdown",
   "metadata": {
    "deletable": true,
    "editable": true
   },
   "source": [
    "A simple evaluation of $f$ at $0$ and the $s$ found by the algorithm will determine if we have found the real $s$ or just a random string."
   ]
  },
  {
   "cell_type": "code",
   "execution_count": 90,
   "metadata": {
    "collapsed": false,
    "deletable": true,
    "editable": true
   },
   "outputs": [
    {
     "data": {
      "text/plain": [
       "False"
      ]
     },
     "execution_count": 90,
     "metadata": {},
     "output_type": "execute_result"
    }
   ],
   "source": [
    "f(final_s[1]) == f(0)"
   ]
  }
 ],
 "metadata": {
  "kernelspec": {
   "display_name": "Python 3",
   "language": "python",
   "name": "python3"
  },
  "language_info": {
   "codemirror_mode": {
    "name": "ipython",
    "version": 3
   },
   "file_extension": ".py",
   "mimetype": "text/x-python",
   "name": "python",
   "nbconvert_exporter": "python",
   "pygments_lexer": "ipython3",
   "version": "3.5.2"
  }
 },
 "nbformat": 4,
 "nbformat_minor": 2
}
